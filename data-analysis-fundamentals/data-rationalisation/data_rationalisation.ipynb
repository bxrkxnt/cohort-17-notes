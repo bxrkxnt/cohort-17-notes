{
 "cells": [
  {
   "cell_type": "markdown",
   "id": "bc9586b9",
   "metadata": {},
   "source": [
    "# Data Rationalisation\n",
    "\n",
    "This notebook prepares and inserts data from a `.csv` source into an existing database table.\n",
    "\n",
    "## Imports"
   ]
  },
  {
   "cell_type": "code",
   "execution_count": 1,
   "id": "55284f18",
   "metadata": {},
   "outputs": [],
   "source": [
    "import pandas as pd\n",
    "from redshift_connector import connect\n",
    "import re"
   ]
  },
  {
   "cell_type": "markdown",
   "id": "b81b2460",
   "metadata": {},
   "source": [
    "## Setup"
   ]
  },
  {
   "cell_type": "code",
   "execution_count": 2,
   "id": "cd136579",
   "metadata": {},
   "outputs": [],
   "source": [
    "def get_db_connection():\n",
    "    return connect(host=\"c17-redshift-cluster.cdq12ms5gjyk.eu-west-2.redshift.amazonaws.com\",\n",
    "                   user=\"admin\",\n",
    "                   password=\"Password1\",\n",
    "                   database=\"dw_air_travel\",\n",
    "                   port=5439)\n",
    "\n",
    "conn = get_db_connection()"
   ]
  },
  {
   "cell_type": "code",
   "execution_count": 3,
   "id": "703891c5",
   "metadata": {},
   "outputs": [],
   "source": [
    "def get_state_mapping(conn) -> dict:\n",
    "    \"\"\"Returns a mapping of state codes and DB IDs.\"\"\"\n",
    "\n",
    "    with conn.cursor() as cur:\n",
    "        cur.execute(\"SELECT state_code, state_id FROM s_coach_dan.state;\")\n",
    "        data = cur.fetchall()\n",
    "\n",
    "    mapping = {}\n",
    "    for row in data:\n",
    "        mapping[row[0]] = row[1]\n",
    "\n",
    "    return mapping\n",
    "\n",
    "def get_shape_mapping(conn) -> dict:\n",
    "    \"\"\"Returns a mapping of shape names and DB IDs.\"\"\"\n",
    "\n",
    "    with conn.cursor() as cur:\n",
    "        cur.execute(\"SELECT ufo_shape_name, ufo_shape_id FROM ufo.ufo_shape;\")\n",
    "        data = cur.fetchall()\n",
    "\n",
    "    mapping = {}\n",
    "    for row in data:\n",
    "        mapping[row[0]] = row[1]\n",
    "\n",
    "    return mapping"
   ]
  },
  {
   "cell_type": "markdown",
   "id": "9be45cc4",
   "metadata": {},
   "source": [
    "## Data Sourcing"
   ]
  },
  {
   "cell_type": "code",
   "execution_count": 4,
   "id": "0eba0dde",
   "metadata": {},
   "outputs": [],
   "source": [
    "sightings = pd.read_csv(\"ufo_data.csv\", sep=\"\\t\")"
   ]
  },
  {
   "cell_type": "code",
   "execution_count": 5,
   "id": "aeba2c52",
   "metadata": {},
   "outputs": [
    {
     "data": {
      "text/html": [
       "<div>\n",
       "<style scoped>\n",
       "    .dataframe tbody tr th:only-of-type {\n",
       "        vertical-align: middle;\n",
       "    }\n",
       "\n",
       "    .dataframe tbody tr th {\n",
       "        vertical-align: top;\n",
       "    }\n",
       "\n",
       "    .dataframe thead th {\n",
       "        text-align: right;\n",
       "    }\n",
       "</style>\n",
       "<table border=\"1\" class=\"dataframe\">\n",
       "  <thead>\n",
       "    <tr style=\"text-align: right;\">\n",
       "      <th></th>\n",
       "      <th>Unnamed: 0.1</th>\n",
       "      <th>Unnamed: 0</th>\n",
       "      <th>summary</th>\n",
       "      <th>city</th>\n",
       "      <th>state</th>\n",
       "      <th>date_time</th>\n",
       "      <th>shape</th>\n",
       "      <th>duration</th>\n",
       "      <th>stats</th>\n",
       "      <th>report_link</th>\n",
       "      <th>text</th>\n",
       "      <th>posted</th>\n",
       "      <th>city_latitude</th>\n",
       "      <th>city_longitude</th>\n",
       "    </tr>\n",
       "  </thead>\n",
       "  <tbody>\n",
       "    <tr>\n",
       "      <th>0</th>\n",
       "      <td>0</td>\n",
       "      <td>0</td>\n",
       "      <td>My wife was driving southeast on a fairly popu...</td>\n",
       "      <td>Chester</td>\n",
       "      <td>VA</td>\n",
       "      <td>2019-12-12T18:43:00</td>\n",
       "      <td>light</td>\n",
       "      <td>5 seconds, 0 minutes, 0 hours</td>\n",
       "      <td>Occurred : 12/12/2019 18:43  (Entered as : 12/...</td>\n",
       "      <td>http://www.nuforc.org/webreports/151/S151739.html</td>\n",
       "      <td>My wife was driving southeast on a fairly popu...</td>\n",
       "      <td>2019-12-22T00:00:00</td>\n",
       "      <td>37.343152</td>\n",
       "      <td>-77.408582</td>\n",
       "    </tr>\n",
       "    <tr>\n",
       "      <th>1</th>\n",
       "      <td>1</td>\n",
       "      <td>1</td>\n",
       "      <td>I think that I may caught a UFO on the NBC Nig...</td>\n",
       "      <td>Rocky Hill</td>\n",
       "      <td>CT</td>\n",
       "      <td>2019-03-22T18:30:00</td>\n",
       "      <td>circle</td>\n",
       "      <td>5 seconds, 0 minutes, 0 hours</td>\n",
       "      <td>Occurred : 3/22/2019 18:30  (Entered as : 03/2...</td>\n",
       "      <td>http://www.nuforc.org/webreports/145/S145297.html</td>\n",
       "      <td>I think that I may caught a UFO on the NBC Nig...</td>\n",
       "      <td>2019-03-29T00:00:00</td>\n",
       "      <td>41.664800</td>\n",
       "      <td>-72.639300</td>\n",
       "    </tr>\n",
       "  </tbody>\n",
       "</table>\n",
       "</div>"
      ],
      "text/plain": [
       "   Unnamed: 0.1  Unnamed: 0  \\\n",
       "0             0           0   \n",
       "1             1           1   \n",
       "\n",
       "                                             summary        city state  \\\n",
       "0  My wife was driving southeast on a fairly popu...     Chester    VA   \n",
       "1  I think that I may caught a UFO on the NBC Nig...  Rocky Hill    CT   \n",
       "\n",
       "             date_time   shape                       duration  \\\n",
       "0  2019-12-12T18:43:00   light  5 seconds, 0 minutes, 0 hours   \n",
       "1  2019-03-22T18:30:00  circle  5 seconds, 0 minutes, 0 hours   \n",
       "\n",
       "                                               stats  \\\n",
       "0  Occurred : 12/12/2019 18:43  (Entered as : 12/...   \n",
       "1  Occurred : 3/22/2019 18:30  (Entered as : 03/2...   \n",
       "\n",
       "                                         report_link  \\\n",
       "0  http://www.nuforc.org/webreports/151/S151739.html   \n",
       "1  http://www.nuforc.org/webreports/145/S145297.html   \n",
       "\n",
       "                                                text               posted  \\\n",
       "0  My wife was driving southeast on a fairly popu...  2019-12-22T00:00:00   \n",
       "1  I think that I may caught a UFO on the NBC Nig...  2019-03-29T00:00:00   \n",
       "\n",
       "   city_latitude  city_longitude  \n",
       "0      37.343152      -77.408582  \n",
       "1      41.664800      -72.639300  "
      ]
     },
     "execution_count": 5,
     "metadata": {},
     "output_type": "execute_result"
    }
   ],
   "source": [
    "sightings.head(2)"
   ]
  },
  {
   "cell_type": "markdown",
   "id": "c15263b1",
   "metadata": {},
   "source": [
    "## Data Cleaning"
   ]
  },
  {
   "cell_type": "code",
   "execution_count": 6,
   "id": "f71e0fcf",
   "metadata": {},
   "outputs": [],
   "source": [
    "sightings = sightings.drop(columns=[\"Unnamed: 0.1\", \"Unnamed: 0\", \"city\", \"city_latitude\", \"city_longitude\", \"report_link\",\n",
    "                                    \"posted\", \"summary\", \"stats\"])"
   ]
  },
  {
   "cell_type": "code",
   "execution_count": 7,
   "id": "b9d8fbc6",
   "metadata": {},
   "outputs": [],
   "source": [
    "sightings[\"date_time\"] = pd.to_datetime(sightings[\"date_time\"])"
   ]
  },
  {
   "cell_type": "code",
   "execution_count": 8,
   "id": "c6b7e87a",
   "metadata": {},
   "outputs": [],
   "source": [
    "state_mapping = get_state_mapping(conn)\n",
    "shape_mapping = get_shape_mapping(conn)"
   ]
  },
  {
   "cell_type": "code",
   "execution_count": 9,
   "id": "4fd94b16",
   "metadata": {},
   "outputs": [],
   "source": [
    "sightings = sightings.dropna()"
   ]
  },
  {
   "cell_type": "code",
   "execution_count": 10,
   "id": "a298a531",
   "metadata": {},
   "outputs": [],
   "source": [
    "sightings[\"shape\"] = sightings[\"shape\"].map(shape_mapping)\n",
    "sightings[\"state\"] = sightings[\"state\"].map(state_mapping)\n",
    "\n",
    "sightings = sightings.dropna()\n",
    "sightings[\"state\"] = sightings[\"state\"].astype(int)"
   ]
  },
  {
   "cell_type": "code",
   "execution_count": 11,
   "id": "d1080b00",
   "metadata": {},
   "outputs": [],
   "source": [
    "def get_seconds_from_duration(text: str) -> int:\n",
    "    \"\"\"Returns the number of seconds from a complex time string.\"\"\"\n",
    "\n",
    "    nums = [int(n) for n in re.findall(r\"(\\d+)\", text)]\n",
    "\n",
    "    return nums[0] + nums[1] * 60 + nums[2] * 60"
   ]
  },
  {
   "cell_type": "code",
   "execution_count": 12,
   "id": "b16322ad",
   "metadata": {},
   "outputs": [],
   "source": [
    "sightings[\"duration\"] = sightings[\"duration\"].apply(get_seconds_from_duration)"
   ]
  },
  {
   "cell_type": "code",
   "execution_count": 13,
   "id": "94d80bf7",
   "metadata": {},
   "outputs": [
    {
     "data": {
      "text/html": [
       "<div>\n",
       "<style scoped>\n",
       "    .dataframe tbody tr th:only-of-type {\n",
       "        vertical-align: middle;\n",
       "    }\n",
       "\n",
       "    .dataframe tbody tr th {\n",
       "        vertical-align: top;\n",
       "    }\n",
       "\n",
       "    .dataframe thead th {\n",
       "        text-align: right;\n",
       "    }\n",
       "</style>\n",
       "<table border=\"1\" class=\"dataframe\">\n",
       "  <thead>\n",
       "    <tr style=\"text-align: right;\">\n",
       "      <th></th>\n",
       "      <th>state</th>\n",
       "      <th>date_time</th>\n",
       "      <th>shape</th>\n",
       "      <th>duration</th>\n",
       "      <th>text</th>\n",
       "    </tr>\n",
       "  </thead>\n",
       "  <tbody>\n",
       "    <tr>\n",
       "      <th>20435</th>\n",
       "      <td>40</td>\n",
       "      <td>2010-02-28 23:00:00</td>\n",
       "      <td>1</td>\n",
       "      <td>180</td>\n",
       "      <td>Red blue green and white light slowly floating...</td>\n",
       "    </tr>\n",
       "  </tbody>\n",
       "</table>\n",
       "</div>"
      ],
      "text/plain": [
       "       state           date_time  shape  duration  \\\n",
       "20435     40 2010-02-28 23:00:00      1       180   \n",
       "\n",
       "                                                    text  \n",
       "20435  Red blue green and white light slowly floating...  "
      ]
     },
     "execution_count": 13,
     "metadata": {},
     "output_type": "execute_result"
    }
   ],
   "source": [
    "sightings.sample()"
   ]
  },
  {
   "cell_type": "code",
   "execution_count": 14,
   "id": "78b8bd87",
   "metadata": {},
   "outputs": [
    {
     "data": {
      "text/plain": [
       "state                 int64\n",
       "date_time    datetime64[ns]\n",
       "shape                 int64\n",
       "duration              int64\n",
       "text                 object\n",
       "dtype: object"
      ]
     },
     "execution_count": 14,
     "metadata": {},
     "output_type": "execute_result"
    }
   ],
   "source": [
    "sightings.dtypes"
   ]
  },
  {
   "cell_type": "markdown",
   "id": "57ae3bb2",
   "metadata": {},
   "source": [
    "## Data Upload"
   ]
  },
  {
   "cell_type": "code",
   "execution_count": 15,
   "id": "ec25501b",
   "metadata": {},
   "outputs": [],
   "source": [
    "sightings.to_csv(\"ufo_clean.csv\", index=False, header=None)"
   ]
  },
  {
   "cell_type": "code",
   "execution_count": 16,
   "id": "c03f6be5",
   "metadata": {},
   "outputs": [
    {
     "ename": "KeyboardInterrupt",
     "evalue": "",
     "output_type": "error",
     "traceback": [
      "\u001b[31m---------------------------------------------------------------------------\u001b[39m",
      "\u001b[31mKeyboardInterrupt\u001b[39m                         Traceback (most recent call last)",
      "\u001b[36mCell\u001b[39m\u001b[36m \u001b[39m\u001b[32mIn[16]\u001b[39m\u001b[32m, line 3\u001b[39m\n\u001b[32m      1\u001b[39m \u001b[38;5;28;01mwith\u001b[39;00m conn.cursor() \u001b[38;5;28;01mas\u001b[39;00m cur:\n\u001b[32m      2\u001b[39m     cur.execute(\u001b[33m\"\u001b[39m\u001b[33mset search_path to ufo;\u001b[39m\u001b[33m\"\u001b[39m)\n\u001b[32m----> \u001b[39m\u001b[32m3\u001b[39m     \u001b[43mcur\u001b[49m\u001b[43m.\u001b[49m\u001b[43minsert_data_bulk\u001b[49m\u001b[43m(\u001b[49m\u001b[43mfilename\u001b[49m\u001b[43m=\u001b[49m\u001b[33;43m\"\u001b[39;49m\u001b[33;43mufo_clean.csv\u001b[39;49m\u001b[33;43m\"\u001b[39;49m\u001b[43m,\u001b[49m\u001b[43m \u001b[49m\u001b[43mtable_name\u001b[49m\u001b[43m=\u001b[49m\u001b[33;43m\"\u001b[39;49m\u001b[33;43mufo.ufo_sighting_filled\u001b[39;49m\u001b[33;43m\"\u001b[39;49m\u001b[43m,\u001b[49m\n\u001b[32m      4\u001b[39m \u001b[43m                         \u001b[49m\u001b[43mcolumn_names\u001b[49m\u001b[43m=\u001b[49m\u001b[43m[\u001b[49m\u001b[33;43m\"\u001b[39;49m\u001b[33;43mstate_id\u001b[39;49m\u001b[33;43m\"\u001b[39;49m\u001b[43m,\u001b[49m\u001b[43m \u001b[49m\u001b[33;43m\"\u001b[39;49m\u001b[33;43mevent_at\u001b[39;49m\u001b[33;43m\"\u001b[39;49m\u001b[43m,\u001b[49m\u001b[43m \u001b[49m\u001b[33;43m\"\u001b[39;49m\u001b[33;43mshape_id\u001b[39;49m\u001b[33;43m\"\u001b[39;49m\u001b[43m,\u001b[49m\u001b[43m \u001b[49m\u001b[33;43m\"\u001b[39;49m\u001b[33;43mduration_s\u001b[39;49m\u001b[33;43m\"\u001b[39;49m\u001b[43m,\u001b[49m\u001b[43m \u001b[49m\u001b[33;43m\"\u001b[39;49m\u001b[33;43mevent_description\u001b[39;49m\u001b[33;43m\"\u001b[39;49m\u001b[43m]\u001b[49m\u001b[43m,\u001b[49m\n\u001b[32m      5\u001b[39m \u001b[43m                         \u001b[49m\u001b[43mparameter_indices\u001b[49m\u001b[43m=\u001b[49m\u001b[43m[\u001b[49m\u001b[32;43m0\u001b[39;49m\u001b[43m,\u001b[49m\u001b[43m \u001b[49m\u001b[32;43m1\u001b[39;49m\u001b[43m,\u001b[49m\u001b[43m \u001b[49m\u001b[32;43m2\u001b[39;49m\u001b[43m,\u001b[49m\u001b[43m \u001b[49m\u001b[32;43m3\u001b[39;49m\u001b[43m,\u001b[49m\u001b[43m \u001b[49m\u001b[32;43m4\u001b[39;49m\u001b[43m]\u001b[49m\u001b[43m,\u001b[49m\n\u001b[32m      6\u001b[39m \u001b[43m                         \u001b[49m\u001b[43mdelimiter\u001b[49m\u001b[43m=\u001b[49m\u001b[33;43m\"\u001b[39;49m\u001b[33;43m,\u001b[39;49m\u001b[33;43m\"\u001b[39;49m\u001b[43m)\u001b[49m\n",
      "\u001b[36mFile \u001b[39m\u001b[32m~/Documents/cohorts/c17/notes/data-analysis-fundamentals/data-rationalisation/.venv/lib/python3.13/site-packages/redshift_connector/cursor.py:347\u001b[39m, in \u001b[36mCursor.insert_data_bulk\u001b[39m\u001b[34m(self, filename, table_name, parameter_indices, column_names, delimiter, batch_size)\u001b[39m\n\u001b[32m    345\u001b[39m sql_param_lists = [sql_param_list_template] * row_count\n\u001b[32m    346\u001b[39m insert_stmt = base_stmt + \u001b[33m\"\u001b[39m\u001b[33m, \u001b[39m\u001b[33m\"\u001b[39m.join(sql_param_lists) + \u001b[33m\"\u001b[39m\u001b[33m;\u001b[39m\u001b[33m\"\u001b[39m\n\u001b[32m--> \u001b[39m\u001b[32m347\u001b[39m \u001b[38;5;28;43mself\u001b[39;49m\u001b[43m.\u001b[49m\u001b[43mexecute\u001b[49m\u001b[43m(\u001b[49m\u001b[43minsert_stmt\u001b[49m\u001b[43m,\u001b[49m\u001b[43m \u001b[49m\u001b[43mvalues_list\u001b[49m\u001b[43m)\u001b[49m\n\u001b[32m    348\u001b[39m row_count = \u001b[32m0\u001b[39m\n\u001b[32m    349\u001b[39m values_list.clear()\n",
      "\u001b[36mFile \u001b[39m\u001b[32m~/Documents/cohorts/c17/notes/data-analysis-fundamentals/data-rationalisation/.venv/lib/python3.13/site-packages/redshift_connector/cursor.py:256\u001b[39m, in \u001b[36mCursor.execute\u001b[39m\u001b[34m(self, operation, args, stream, merge_socket_read)\u001b[39m\n\u001b[32m    254\u001b[39m         \u001b[38;5;28mself\u001b[39m._c.execute(\u001b[38;5;28mself\u001b[39m, \u001b[33m\"\u001b[39m\u001b[33mbegin transaction\u001b[39m\u001b[33m\"\u001b[39m, \u001b[38;5;28;01mNone\u001b[39;00m)\n\u001b[32m    255\u001b[39m     \u001b[38;5;28mself\u001b[39m._c.merge_socket_read = merge_socket_read\n\u001b[32m--> \u001b[39m\u001b[32m256\u001b[39m     \u001b[38;5;28;43mself\u001b[39;49m\u001b[43m.\u001b[49m\u001b[43m_c\u001b[49m\u001b[43m.\u001b[49m\u001b[43mexecute\u001b[49m\u001b[43m(\u001b[49m\u001b[38;5;28;43mself\u001b[39;49m\u001b[43m,\u001b[49m\u001b[43m \u001b[49m\u001b[43moperation\u001b[49m\u001b[43m,\u001b[49m\u001b[43m \u001b[49m\u001b[43margs\u001b[49m\u001b[43m)\u001b[49m\n\u001b[32m    257\u001b[39m \u001b[38;5;28;01mexcept\u001b[39;00m \u001b[38;5;167;01mException\u001b[39;00m \u001b[38;5;28;01mas\u001b[39;00m e:\n\u001b[32m    258\u001b[39m     \u001b[38;5;28;01mtry\u001b[39;00m:\n",
      "\u001b[36mFile \u001b[39m\u001b[32m~/Documents/cohorts/c17/notes/data-analysis-fundamentals/data-rationalisation/.venv/lib/python3.13/site-packages/redshift_connector/core.py:1996\u001b[39m, in \u001b[36mConnection.execute\u001b[39m\u001b[34m(self, cursor, operation, vals)\u001b[39m\n\u001b[32m   1994\u001b[39m     \u001b[38;5;28mself\u001b[39m.handle_messages_merge_socket_read(cursor)\n\u001b[32m   1995\u001b[39m \u001b[38;5;28;01melse\u001b[39;00m:\n\u001b[32m-> \u001b[39m\u001b[32m1996\u001b[39m     \u001b[38;5;28;43mself\u001b[39;49m\u001b[43m.\u001b[49m\u001b[43mhandle_messages\u001b[49m\u001b[43m(\u001b[49m\u001b[43mcursor\u001b[49m\u001b[43m)\u001b[49m\n",
      "\u001b[36mFile \u001b[39m\u001b[32m~/Documents/cohorts/c17/notes/data-analysis-fundamentals/data-rationalisation/.venv/lib/python3.13/site-packages/redshift_connector/core.py:2184\u001b[39m, in \u001b[36mConnection.handle_messages\u001b[39m\u001b[34m(self, cursor)\u001b[39m\n\u001b[32m   2181\u001b[39m code = \u001b[38;5;28mself\u001b[39m.error = \u001b[38;5;28;01mNone\u001b[39;00m\n\u001b[32m   2183\u001b[39m \u001b[38;5;28;01mwhile\u001b[39;00m code != READY_FOR_QUERY:\n\u001b[32m-> \u001b[39m\u001b[32m2184\u001b[39m     buffer = \u001b[38;5;28;43mself\u001b[39;49m\u001b[43m.\u001b[49m\u001b[43m_read\u001b[49m\u001b[43m(\u001b[49m\u001b[32;43m5\u001b[39;49m\u001b[43m)\u001b[49m\n\u001b[32m   2186\u001b[39m     \u001b[38;5;28;01mif\u001b[39;00m \u001b[38;5;28mlen\u001b[39m(buffer) == \u001b[32m0\u001b[39m:\n\u001b[32m   2187\u001b[39m         \u001b[38;5;28;01mif\u001b[39;00m \u001b[38;5;28mself\u001b[39m._usock.timeout \u001b[38;5;129;01mis\u001b[39;00m \u001b[38;5;129;01mnot\u001b[39;00m \u001b[38;5;28;01mNone\u001b[39;00m:\n",
      "\u001b[36mFile \u001b[39m\u001b[32m/opt/homebrew/Cellar/python@3.13/3.13.2/Frameworks/Python.framework/Versions/3.13/lib/python3.13/socket.py:719\u001b[39m, in \u001b[36mSocketIO.readinto\u001b[39m\u001b[34m(self, b)\u001b[39m\n\u001b[32m    717\u001b[39m     \u001b[38;5;28;01mraise\u001b[39;00m \u001b[38;5;167;01mOSError\u001b[39;00m(\u001b[33m\"\u001b[39m\u001b[33mcannot read from timed out object\u001b[39m\u001b[33m\"\u001b[39m)\n\u001b[32m    718\u001b[39m \u001b[38;5;28;01mtry\u001b[39;00m:\n\u001b[32m--> \u001b[39m\u001b[32m719\u001b[39m     \u001b[38;5;28;01mreturn\u001b[39;00m \u001b[38;5;28;43mself\u001b[39;49m\u001b[43m.\u001b[49m\u001b[43m_sock\u001b[49m\u001b[43m.\u001b[49m\u001b[43mrecv_into\u001b[49m\u001b[43m(\u001b[49m\u001b[43mb\u001b[49m\u001b[43m)\u001b[49m\n\u001b[32m    720\u001b[39m \u001b[38;5;28;01mexcept\u001b[39;00m timeout:\n\u001b[32m    721\u001b[39m     \u001b[38;5;28mself\u001b[39m._timeout_occurred = \u001b[38;5;28;01mTrue\u001b[39;00m\n",
      "\u001b[36mFile \u001b[39m\u001b[32m/opt/homebrew/Cellar/python@3.13/3.13.2/Frameworks/Python.framework/Versions/3.13/lib/python3.13/ssl.py:1304\u001b[39m, in \u001b[36mSSLSocket.recv_into\u001b[39m\u001b[34m(self, buffer, nbytes, flags)\u001b[39m\n\u001b[32m   1300\u001b[39m     \u001b[38;5;28;01mif\u001b[39;00m flags != \u001b[32m0\u001b[39m:\n\u001b[32m   1301\u001b[39m         \u001b[38;5;28;01mraise\u001b[39;00m \u001b[38;5;167;01mValueError\u001b[39;00m(\n\u001b[32m   1302\u001b[39m           \u001b[33m\"\u001b[39m\u001b[33mnon-zero flags not allowed in calls to recv_into() on \u001b[39m\u001b[38;5;132;01m%s\u001b[39;00m\u001b[33m\"\u001b[39m %\n\u001b[32m   1303\u001b[39m           \u001b[38;5;28mself\u001b[39m.\u001b[34m__class__\u001b[39m)\n\u001b[32m-> \u001b[39m\u001b[32m1304\u001b[39m     \u001b[38;5;28;01mreturn\u001b[39;00m \u001b[38;5;28;43mself\u001b[39;49m\u001b[43m.\u001b[49m\u001b[43mread\u001b[49m\u001b[43m(\u001b[49m\u001b[43mnbytes\u001b[49m\u001b[43m,\u001b[49m\u001b[43m \u001b[49m\u001b[43mbuffer\u001b[49m\u001b[43m)\u001b[49m\n\u001b[32m   1305\u001b[39m \u001b[38;5;28;01melse\u001b[39;00m:\n\u001b[32m   1306\u001b[39m     \u001b[38;5;28;01mreturn\u001b[39;00m \u001b[38;5;28msuper\u001b[39m().recv_into(buffer, nbytes, flags)\n",
      "\u001b[36mFile \u001b[39m\u001b[32m/opt/homebrew/Cellar/python@3.13/3.13.2/Frameworks/Python.framework/Versions/3.13/lib/python3.13/ssl.py:1138\u001b[39m, in \u001b[36mSSLSocket.read\u001b[39m\u001b[34m(self, len, buffer)\u001b[39m\n\u001b[32m   1136\u001b[39m \u001b[38;5;28;01mtry\u001b[39;00m:\n\u001b[32m   1137\u001b[39m     \u001b[38;5;28;01mif\u001b[39;00m buffer \u001b[38;5;129;01mis\u001b[39;00m \u001b[38;5;129;01mnot\u001b[39;00m \u001b[38;5;28;01mNone\u001b[39;00m:\n\u001b[32m-> \u001b[39m\u001b[32m1138\u001b[39m         \u001b[38;5;28;01mreturn\u001b[39;00m \u001b[38;5;28;43mself\u001b[39;49m\u001b[43m.\u001b[49m\u001b[43m_sslobj\u001b[49m\u001b[43m.\u001b[49m\u001b[43mread\u001b[49m\u001b[43m(\u001b[49m\u001b[38;5;28;43mlen\u001b[39;49m\u001b[43m,\u001b[49m\u001b[43m \u001b[49m\u001b[43mbuffer\u001b[49m\u001b[43m)\u001b[49m\n\u001b[32m   1139\u001b[39m     \u001b[38;5;28;01melse\u001b[39;00m:\n\u001b[32m   1140\u001b[39m         \u001b[38;5;28;01mreturn\u001b[39;00m \u001b[38;5;28mself\u001b[39m._sslobj.read(\u001b[38;5;28mlen\u001b[39m)\n",
      "\u001b[31mKeyboardInterrupt\u001b[39m: "
     ]
    }
   ],
   "source": [
    "with conn.cursor() as cur:\n",
    "    cur.execute(\"set search_path to ufo;\")\n",
    "    cur.insert_data_bulk(filename=\"ufo_clean.csv\", table_name=\"ufo.ufo_sighting_filled\",\n",
    "                         column_names=[\"state_id\", \"event_at\", \"shape_id\", \"duration_s\", \"event_description\"],\n",
    "                         parameter_indices=[0, 1, 2, 3, 4],\n",
    "                         delimiter=\",\")"
   ]
  },
  {
   "cell_type": "markdown",
   "id": "7bc78362",
   "metadata": {},
   "source": [
    "## Clean up"
   ]
  },
  {
   "cell_type": "code",
   "execution_count": null,
   "id": "c873741b",
   "metadata": {},
   "outputs": [],
   "source": [
    "conn.commit()"
   ]
  },
  {
   "cell_type": "code",
   "execution_count": null,
   "id": "1ed810a5",
   "metadata": {},
   "outputs": [],
   "source": [
    "conn.close()"
   ]
  }
 ],
 "metadata": {
  "kernelspec": {
   "display_name": ".venv",
   "language": "python",
   "name": "python3"
  },
  "language_info": {
   "codemirror_mode": {
    "name": "ipython",
    "version": 3
   },
   "file_extension": ".py",
   "mimetype": "text/x-python",
   "name": "python",
   "nbconvert_exporter": "python",
   "pygments_lexer": "ipython3",
   "version": "3.13.2"
  }
 },
 "nbformat": 4,
 "nbformat_minor": 5
}
